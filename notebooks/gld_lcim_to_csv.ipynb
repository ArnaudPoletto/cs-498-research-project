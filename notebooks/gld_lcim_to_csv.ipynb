{
 "cells": [
  {
   "cell_type": "code",
   "execution_count": 53,
   "metadata": {},
   "outputs": [
    {
     "name": "stdout",
     "output_type": "stream",
     "text": [
      "The autoreload extension is already loaded. To reload it, use:\n",
      "  %reload_ext autoreload\n"
     ]
    }
   ],
   "source": [
    "%load_ext autoreload\n",
    "%autoreload 2"
   ]
  },
  {
   "cell_type": "code",
   "execution_count": 54,
   "metadata": {},
   "outputs": [],
   "source": [
    "import sys\n",
    "sys.path.append('../')\n",
    "\n",
    "import os\n",
    "os.environ[\"KMP_DUPLICATE_LIB_OK\"] = \"True\"\n",
    "os.environ[\"OMP_NUM_THREADS\"] = \"1\"\n",
    "\n",
    "import numpy as np\n",
    "import pandas as pd\n",
    "\n",
    "DATA_PATH = '../data/'\n",
    "GENERATED_PATH = '../generated/'\n",
    "GLD_LCIM_STATISTICS_PATH = f'{DATA_PATH}gld_lcim/statistics.npy'"
   ]
  },
  {
   "cell_type": "code",
   "execution_count": 58,
   "metadata": {},
   "outputs": [],
   "source": [
    "# Load statistics\n",
    "statistics = np.load(GLD_LCIM_STATISTICS_PATH, allow_pickle=True).item()\n",
    "\n",
    "# Apply median for each statistic\n",
    "for scene_key in statistics.keys():\n",
    "    for statistic_key in statistics[scene_key].keys():\n",
    "        statistics[scene_key][statistic_key] = np.median(statistics[scene_key][statistic_key])\n",
    "\n",
    "# Get diff statistics\n",
    "part2_diff_statistics = {}\n",
    "for scene_key in statistics.keys():\n",
    "    if 'P2' not in scene_key:\n",
    "        continue\n",
    "    scene_type = scene_key[2:-6].lower()\n",
    "    scene_id = f'p2_{int(scene_key[-6:-4])}'\n",
    "    for statistic_key in statistics[scene_key].keys():\n",
    "        if scene_id not in part2_diff_statistics:\n",
    "            part2_diff_statistics[scene_id] = {}\n",
    "        value = statistics[scene_key][statistic_key]\n",
    "        value *= 1 if scene_type == 'clear' else -1\n",
    "        if statistic_key not in part2_diff_statistics[scene_id]:\n",
    "            part2_diff_statistics[scene_id][statistic_key] = 0\n",
    "        part2_diff_statistics[scene_id][statistic_key] += value\n",
    "\n",
    "# Reformat scene names from PXSceneX to pX_X\n",
    "statistics = {\n",
    "    f\"p{k[1:2]}_{int(k[-6:-4])}{'_o' if 'Overcast' in k else '_c' if 'Clear' in k else ''}\": v for k, v in statistics.items()}\n"
   ]
  },
  {
   "cell_type": "code",
   "execution_count": 61,
   "metadata": {},
   "outputs": [],
   "source": [
    "stats = pd.DataFrame(statistics).T\n",
    "stats.head(50)\n",
    "stats.to_csv(f'{GENERATED_PATH}gld_lcim/statistics.csv')"
   ]
  },
  {
   "cell_type": "code",
   "execution_count": 62,
   "metadata": {},
   "outputs": [],
   "source": [
    "# As pandas\n",
    "part_diff_stats = pd.DataFrame(part2_diff_statistics).T\n",
    "part_diff_stats.head()\n",
    "part_diff_stats.to_csv(f'{GENERATED_PATH}gld_lcim/part2_diff_statistics.csv')"
   ]
  }
 ],
 "metadata": {
  "kernelspec": {
   "display_name": "dd",
   "language": "python",
   "name": "python3"
  },
  "language_info": {
   "codemirror_mode": {
    "name": "ipython",
    "version": 3
   },
   "file_extension": ".py",
   "mimetype": "text/x-python",
   "name": "python",
   "nbconvert_exporter": "python",
   "pygments_lexer": "ipython3",
   "version": "3.11.5"
  }
 },
 "nbformat": 4,
 "nbformat_minor": 2
}
